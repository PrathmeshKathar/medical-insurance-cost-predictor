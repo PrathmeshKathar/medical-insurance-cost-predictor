{
 "cells": [
  {
   "cell_type": "code",
   "execution_count": null,
   "id": "c5cf2954",
   "metadata": {},
   "outputs": [
    {
     "name": "stdout",
     "output_type": "stream",
     "text": [
      "Best Parameters: {'regressor__max_depth': 10, 'regressor__min_samples_split': 5, 'regressor__n_estimators': 200}\n",
      "Test R²: 0.8696\n",
      "MAE: $2533.65\n"
     ]
    }
   ],
   "source": [
    "import numpy as np\n",
    "import pandas as pd\n",
    "import matplotlib.pyplot as plt\n",
    "import seaborn as sns\n",
    "from sklearn.model_selection import train_test_split\n",
    "from sklearn.ensemble import RandomForestRegressor  # More powerful model\n",
    "from sklearn.preprocessing import OneHotEncoder, StandardScaler\n",
    "from sklearn.compose import ColumnTransformer\n",
    "from sklearn.pipeline import Pipeline\n",
    "from sklearn.metrics import r2_score, mean_absolute_error\n",
    "from sklearn.model_selection import GridSearchCV\n",
    "\n",
    "\n",
    "insurance = pd.read_csv('insurance.csv')\n",
    "\n",
    "# %% [code]\n",
    "# Improved preprocessing\n",
    "# Handle categorical features correctly\n",
    "preprocessor = ColumnTransformer(\n",
    "    transformers=[\n",
    "        ('num', StandardScaler(), ['age', 'bmi', 'children']),\n",
    "        ('cat', OneHotEncoder(drop='first'), ['sex', 'smoker', 'region'])\n",
    "    ])\n",
    "\n",
    "# Define features and target\n",
    "X = insurance.drop('charges', axis=1)\n",
    "y = insurance['charges']\n",
    "\n",
    "# Train-test split\n",
    "X_train, X_test, y_train, y_test = train_test_split(\n",
    "    X, y, test_size=0.2, random_state=42\n",
    ")\n",
    "\n",
    "\n",
    "# Create modeling pipeline\n",
    "pipeline = Pipeline([\n",
    "    ('preprocessor', preprocessor),\n",
    "    ('regressor', RandomForestRegressor(random_state=42))\n",
    "])\n",
    "\n",
    "# Hyperparameter tuning\n",
    "param_grid = {\n",
    "    'regressor__n_estimators': [100, 200],\n",
    "    'regressor__max_depth': [None, 10, 20],\n",
    "    'regressor__min_samples_split': [2, 5]\n",
    "}\n",
    "\n",
    "grid_search = GridSearchCV(\n",
    "    pipeline,\n",
    "    param_grid,\n",
    "    cv=5,\n",
    "    scoring='r2',\n",
    "    n_jobs=-1\n",
    ")\n",
    "\n",
    "grid_search.fit(X_train, y_train)\n",
    "\n",
    "# %% [code]\n",
    "# Evaluation\n",
    "best_model = grid_search.best_estimator_\n",
    "y_pred = best_model.predict(X_test)\n",
    "\n",
    "print(f\"Best Parameters: {grid_search.best_params_}\")\n",
    "print(f\"Test R²: {r2_score(y_test, y_pred):.4f}\")\n",
    "print(f\"MAE: ${mean_absolute_error(y_test, y_pred):.2f}\")\n",
    "\n",
    "# %% [code]\n",
    "# Feature importance analysis\n",
    "# Extract feature names after preprocessing\n",
    "cat_features = best_model.named_steps['preprocessor']\\\n",
    "    .named_transformers_['cat']\\\n",
    "    .get_feature_names_out(['sex', 'smoker', 'region'])\n",
    "\n",
    "feature_names = np.concatenate([\n",
    "    ['age', 'bmi', 'children'],\n",
    "    cat_features\n",
    "])\n",
    "\n",
    "importances = best_model.named_steps['regressor'].feature_importances_\n",
    "pd.Series(importances, index=feature_names).sort_values(ascending=False)\n",
    "\n",
    "import joblib\n",
    "joblib.dump(best_model, 'optimized_insurance_model.pkl')\n",
    "\n",
    "# Load for predictions\n",
    "loaded_model = joblib.load('optimized_insurance_model.pkl')"
   ]
  },
  {
   "cell_type": "code",
   "execution_count": 4,
   "id": "bb2435da",
   "metadata": {},
   "outputs": [
    {
     "name": "stdout",
     "output_type": "stream",
     "text": [
      "Predicted Cost: $6832.18\n"
     ]
    }
   ],
   "source": [
    "sample_data = pd.DataFrame({\n",
    "    'age': [35],\n",
    "    'sex': ['male'],\n",
    "    'bmi': [26.5],\n",
    "    'children': [2],\n",
    "    'smoker': ['no'],\n",
    "    'region': ['northwest']\n",
    "})\n",
    "\n",
    "prediction = loaded_model.predict(sample_data)\n",
    "print(f\"Predicted Cost: ${prediction[0]:.2f}\")"
   ]
  }
 ],
 "metadata": {
  "kernelspec": {
   "display_name": "Python 3",
   "language": "python",
   "name": "python3"
  },
  "language_info": {
   "codemirror_mode": {
    "name": "ipython",
    "version": 3
   },
   "file_extension": ".py",
   "mimetype": "text/x-python",
   "name": "python",
   "nbconvert_exporter": "python",
   "pygments_lexer": "ipython3",
   "version": "3.10.0"
  }
 },
 "nbformat": 4,
 "nbformat_minor": 5
}
